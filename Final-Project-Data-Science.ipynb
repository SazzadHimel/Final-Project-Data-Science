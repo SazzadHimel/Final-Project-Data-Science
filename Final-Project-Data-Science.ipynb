{
 "cells": [
  {
   "cell_type": "markdown",
   "id": "9d0aa715-3e4d-40e4-8405-5b3babe5305e",
   "metadata": {},
   "source": [
    "# Final Project Data Science\n"
   ]
  },
  {
   "cell_type": "markdown",
   "id": "da0ee247-03b2-4936-80bd-993b0ebe69ce",
   "metadata": {},
   "source": [
    "**Author:** Sazzad Hossen Himel"
   ]
  },
  {
   "cell_type": "markdown",
   "id": "08eb9605-a2b8-4fd5-accf-7cf456f91d2f",
   "metadata": {},
   "source": [
    "### This notebook contains various tasks related to data science concepts and coding."
   ]
  },
  {
   "cell_type": "markdown",
   "id": "d9b3f46d-47fa-4db3-9d0e-6dc8ae777dce",
   "metadata": {
    "jp-MarkdownHeadingCollapsed": true
   },
   "source": [
    "### Popular Data Science Languages\n",
    "1. Python  \n",
    "2. R  \n",
    "3. SQL  \n",
    "4. Julia  \n",
    "5. Scala\n",
    "6. Java\n",
    "7. C/C++\n",
    "8. JavaScript"
   ]
  },
  {
   "cell_type": "markdown",
   "id": "86e34b7f-2da7-4b7a-a10c-ae876db61eba",
   "metadata": {},
   "source": [
    "### Popular Data Science Libraries\n",
    "1. NumPy  \n",
    "2. Pandas  \n",
    "3. Scikit-learn  \n",
    "4. TensorFlow  \n",
    "5. Matplotlib\n",
    "6. Seaborn\n",
    "7. Keras\n",
    "8. PyTorch\n",
    "9. Plotly "
   ]
  },
  {
   "cell_type": "markdown",
   "id": "81349f0b-46d2-4d8b-b1f2-4cdcfe058cb1",
   "metadata": {},
   "source": [
    "### Data Science Tools\n",
    "\n",
    "| Tool           | Purpose                |\n",
    "|----------------|------------------------|\n",
    "| Jupyter Notebook | Interactive coding     |\n",
    "| RStudio        | R development IDE       |\n",
    "| Apache Spark   | Big data processing     |\n",
    "| Tableau        | Data visualization      |\n",
    "| VS Code        | General coding IDE      |\n"
   ]
  },
  {
   "cell_type": "markdown",
   "id": "b83d65ce-bb19-4b5d-b46c-ba16b583e9e5",
   "metadata": {},
   "source": [
    "### Below we will demonstrate basic arithmetic operations such as addition and multiplication."
   ]
  },
  {
   "cell_type": "code",
   "execution_count": 5,
   "id": "5d481724-0e16-4d95-be69-359467ef1990",
   "metadata": {},
   "outputs": [
    {
     "name": "stdout",
     "output_type": "stream",
     "text": [
      "Multiplication: 35\n",
      "Summation: 12\n"
     ]
    }
   ],
   "source": [
    "# Multiply and add\n",
    "a = 5\n",
    "b = 7\n",
    "multiply = a * b\n",
    "summation = a + b\n",
    "print(\"Multiplication:\", multiply)\n",
    "print(\"Summation:\", summation)"
   ]
  },
  {
   "cell_type": "code",
   "execution_count": 6,
   "id": "7b0a1fe2-5a9a-47bb-a721-804324bd8101",
   "metadata": {},
   "outputs": [
    {
     "name": "stdout",
     "output_type": "stream",
     "text": [
      "Hours: 2.5\n"
     ]
    }
   ],
   "source": [
    "# Convert minutes to hours\n",
    "minutes = 150\n",
    "hours = minutes / 60\n",
    "print(\"Hours:\", hours)\n"
   ]
  },
  {
   "cell_type": "markdown",
   "id": "1ac72fd8-b48d-4be5-93b9-8463e646756d",
   "metadata": {},
   "source": [
    "### Objectives\n",
    "- Understand basic markdown formatting  \n",
    "- Learn to use Jupyter Notebooks  \n",
    "- Practice basic arithmetic in Python  \n",
    "- Identify key data science tools and languages\n"
   ]
  },
  {
   "cell_type": "code",
   "execution_count": null,
   "id": "40a9a53c-0443-4234-8b32-19c0bef3123a",
   "metadata": {},
   "outputs": [],
   "source": []
  }
 ],
 "metadata": {
  "kernelspec": {
   "display_name": "Python 3 (ipykernel)",
   "language": "python",
   "name": "python3"
  },
  "language_info": {
   "codemirror_mode": {
    "name": "ipython",
    "version": 3
   },
   "file_extension": ".py",
   "mimetype": "text/x-python",
   "name": "python",
   "nbconvert_exporter": "python",
   "pygments_lexer": "ipython3",
   "version": "3.12.8"
  }
 },
 "nbformat": 4,
 "nbformat_minor": 5
}
